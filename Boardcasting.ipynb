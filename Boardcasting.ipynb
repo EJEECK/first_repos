{
 "cells": [
  {
   "cell_type": "code",
   "execution_count": 1,
   "id": "d82c67d6",
   "metadata": {},
   "outputs": [],
   "source": [
    "import numpy as np\n"
   ]
  },
  {
   "cell_type": "code",
   "execution_count": 2,
   "id": "bcddfb8d",
   "metadata": {},
   "outputs": [
    {
     "data": {
      "text/plain": [
       "array([4, 4, 4])"
      ]
     },
     "execution_count": 2,
     "metadata": {},
     "output_type": "execute_result"
    }
   ],
   "source": [
    "a = np.array([1,2,3])\n",
    "b = np.array([3,2,1])\n",
    "a+b"
   ]
  },
  {
   "cell_type": "code",
   "execution_count": 3,
   "id": "2ca8651b",
   "metadata": {},
   "outputs": [
    {
     "data": {
      "text/plain": [
       "array([6, 7, 8])"
      ]
     },
     "execution_count": 3,
     "metadata": {},
     "output_type": "execute_result"
    }
   ],
   "source": [
    "# boartcasting позволяет выполнить бинарные оперциями между массивами разных размеров\n",
    "a+5"
   ]
  },
  {
   "cell_type": "code",
   "execution_count": 4,
   "id": "dc57c1e1",
   "metadata": {},
   "outputs": [
    {
     "data": {
      "text/plain": [
       "array([[1., 1., 1.],\n",
       "       [1., 1., 1.],\n",
       "       [1., 1., 1.]])"
      ]
     },
     "execution_count": 4,
     "metadata": {},
     "output_type": "execute_result"
    }
   ],
   "source": [
    "m = np.ones((3,3))\n",
    "m"
   ]
  },
  {
   "cell_type": "code",
   "execution_count": 5,
   "id": "36461177",
   "metadata": {},
   "outputs": [
    {
     "data": {
      "text/plain": [
       "array([[2., 3., 4.],\n",
       "       [2., 3., 4.],\n",
       "       [2., 3., 4.]])"
      ]
     },
     "execution_count": 5,
     "metadata": {},
     "output_type": "execute_result"
    }
   ],
   "source": [
    "m+a"
   ]
  },
  {
   "cell_type": "code",
   "execution_count": 6,
   "id": "c7e1b18d",
   "metadata": {},
   "outputs": [
    {
     "name": "stdout",
     "output_type": "stream",
     "text": [
      "[0 1 2]\n",
      "[[0]\n",
      " [1]\n",
      " [2]]\n"
     ]
    }
   ],
   "source": [
    "a = np.arange(3)\n",
    "b = np.arange(3)[:, np.newaxis]\n",
    "print(a)\n",
    "print(b)"
   ]
  },
  {
   "cell_type": "code",
   "execution_count": 7,
   "id": "b5711e89",
   "metadata": {},
   "outputs": [
    {
     "data": {
      "text/plain": [
       "array([[0, 1, 2],\n",
       "       [1, 2, 3],\n",
       "       [2, 3, 4]])"
      ]
     },
     "execution_count": 7,
     "metadata": {},
     "output_type": "execute_result"
    }
   ],
   "source": [
    "a+b"
   ]
  },
  {
   "cell_type": "code",
   "execution_count": 8,
   "id": "6689d326",
   "metadata": {},
   "outputs": [
    {
     "data": {
      "text/plain": [
       "'Rules of Broadcasting\\nПравило 1: Если два массива различаются по количеству измерений, форма массива с меньшим количеством \\nизмерений дополняется единицами на его передней (левой) стороне.\\nПравило 2: Если форма двух массивов не совпадает ни в одном измерении, массив с формой, равной 1 \\nв этом измерении, растягивается, чтобы соответствовать другой форме.\\nПравило 3: Если в каком-либо измерении размеры не совпадают и ни один из них не равен 1, \\nвозникает ошибка.'"
      ]
     },
     "execution_count": 8,
     "metadata": {},
     "output_type": "execute_result"
    }
   ],
   "source": [
    "\"\"\"Rules of Broadcasting\n",
    "Правило 1: Если два массива различаются по количеству измерений, форма массива с меньшим количеством \n",
    "измерений дополняется единицами на его передней (левой) стороне.\n",
    "Правило 2: Если форма двух массивов не совпадает ни в одном измерении, массив с формой, равной 1 \n",
    "в этом измерении, растягивается, чтобы соответствовать другой форме.\n",
    "Правило 3: Если в каком-либо измерении размеры не совпадают и ни один из них не равен 1, \n",
    "возникает ошибка.\"\"\""
   ]
  },
  {
   "cell_type": "code",
   "execution_count": 9,
   "id": "92736e52",
   "metadata": {},
   "outputs": [],
   "source": [
    "# Example 1\n",
    "# ПРавило 1\n",
    "m = np.ones((2, 3))\n",
    "a = np.arange(3)\n",
    "# Мы видим по правилу 1, что массив a имеет меньше измерений, поэтому дополняем его слева единицами:\n",
    "#m.shape -> (2,3)\n",
    "#a.shape -> (1,3)\n",
    "# По правилу 2 мы теперь видим, что первое измерение не совпадает, поэтому мы \n",
    "# растягиваем это измерение, чтобы оно соответствовало:\n",
    "#a.shape -> (2,3)\n"
   ]
  },
  {
   "cell_type": "code",
   "execution_count": 10,
   "id": "0cce2ed7",
   "metadata": {},
   "outputs": [
    {
     "data": {
      "text/plain": [
       "array([[1., 2., 3.],\n",
       "       [1., 2., 3.]])"
      ]
     },
     "execution_count": 10,
     "metadata": {},
     "output_type": "execute_result"
    }
   ],
   "source": [
    "m+a # при соединении м и а мы получили массив формой (2, 3)"
   ]
  },
  {
   "cell_type": "code",
   "execution_count": 11,
   "id": "c3b21258",
   "metadata": {},
   "outputs": [
    {
     "data": {
      "text/plain": [
       "array([[0, 1, 2],\n",
       "       [1, 2, 3],\n",
       "       [2, 3, 4]])"
      ]
     },
     "execution_count": 11,
     "metadata": {},
     "output_type": "execute_result"
    }
   ],
   "source": [
    "# Example 2\n",
    "a = np.arange(3).reshape((3, 1))\n",
    "b = np.arange(3)\n",
    "\"\"\"Again, we'll start by writing out the shape of the arrays:\n",
    "\n",
    "a.shape = (3, 1)\n",
    "b.shape = (3,)\n",
    "Rule 1 says we must pad the shape of b with ones:\n",
    "\n",
    "a.shape -> (3, 1)\n",
    "b.shape -> (1, 3)\n",
    "And rule 2 tells us that we upgrade each of these ones to match the corresponding size of the other array:\n",
    "\n",
    "a.shape -> (3, 3)\n",
    "b.shape -> (3, 3)\n",
    "Because the result matches, these shapes are compatible. We can see this here:\"\"\"\n",
    "\n",
    "a+b"
   ]
  },
  {
   "cell_type": "code",
   "execution_count": 12,
   "id": "845aee99",
   "metadata": {},
   "outputs": [
    {
     "data": {
      "text/plain": [
       "array([[1., 2., 3.],\n",
       "       [1., 2., 3.]])"
      ]
     },
     "execution_count": 12,
     "metadata": {},
     "output_type": "execute_result"
    }
   ],
   "source": [
    "# Example 3\n",
    "M = np.ones((3, 2))\n",
    "a = np.arange(3)\n",
    "'''\n",
    "Опять же, правило 1 говорит нам, что мы должны дополнить форму единицами:\n",
    "\n",
    "М.форма -> (3, 2)\n",
    "а.форма -> (1, 3)\n",
    "По правилу 2 первое измерение a растягивается, чтобы соответствовать размеру M:\n",
    "\n",
    "М.форма -> (3, 2)\n",
    "а.форма -> (3, 3)\n",
    "Теперь мы применяем правило 3 — окончательные формы не совпадают, \n",
    "поэтому эти два массива несовместимы, как мы можем наблюдать, пытаясь выполнить эту операцию:'''\n",
    "\n",
    "m+a"
   ]
  },
  {
   "cell_type": "code",
   "execution_count": 13,
   "id": "012cff34",
   "metadata": {},
   "outputs": [
    {
     "data": {
      "text/plain": [
       "(3, 1)"
      ]
     },
     "execution_count": 13,
     "metadata": {},
     "output_type": "execute_result"
    }
   ],
   "source": [
    "a[:, np.newaxis].shape # явно объявляем новую форму массива А, чтобы массивы могли соответсвовать правилам"
   ]
  },
  {
   "cell_type": "code",
   "execution_count": 14,
   "id": "d863e073",
   "metadata": {},
   "outputs": [
    {
     "data": {
      "text/plain": [
       "array([[1., 1.],\n",
       "       [2., 2.],\n",
       "       [3., 3.]])"
      ]
     },
     "execution_count": 14,
     "metadata": {},
     "output_type": "execute_result"
    }
   ],
   "source": [
    "M+ a[:, np.newaxis]"
   ]
  },
  {
   "cell_type": "code",
   "execution_count": 15,
   "id": "bf3a6d00",
   "metadata": {},
   "outputs": [
    {
     "data": {
      "text/plain": [
       "array([[1.31326169, 1.31326169],\n",
       "       [1.69314718, 1.69314718],\n",
       "       [2.31326169, 2.31326169]])"
      ]
     },
     "execution_count": 15,
     "metadata": {},
     "output_type": "execute_result"
    }
   ],
   "source": [
    "# эти правила распростроняются на все ufunc, а не только на +\n",
    "np.logaddexp(M, a[:, np.newaxis])"
   ]
  },
  {
   "cell_type": "code",
   "execution_count": 67,
   "id": "d7650b35",
   "metadata": {},
   "outputs": [
    {
     "data": {
      "text/plain": [
       "array([[0.417411  , 0.22210781, 0.11986537],\n",
       "       [0.33761517, 0.9429097 , 0.32320293],\n",
       "       [0.51879062, 0.70301896, 0.3636296 ],\n",
       "       [0.97178208, 0.96244729, 0.2517823 ],\n",
       "       [0.49724851, 0.30087831, 0.28484049],\n",
       "       [0.03688695, 0.60956433, 0.50267902],\n",
       "       [0.05147875, 0.27864646, 0.90826589],\n",
       "       [0.23956189, 0.14489487, 0.48945276],\n",
       "       [0.98565045, 0.24205527, 0.67213555],\n",
       "       [0.76161962, 0.23763754, 0.72821635]])"
      ]
     },
     "execution_count": 67,
     "metadata": {},
     "output_type": "execute_result"
    }
   ],
   "source": [
    "x = np.random.random((10,3))\n",
    "x"
   ]
  },
  {
   "cell_type": "code",
   "execution_count": 68,
   "id": "001b3d52",
   "metadata": {},
   "outputs": [
    {
     "data": {
      "text/plain": [
       "array([0.4818045 , 0.46441606, 0.46440703])"
      ]
     },
     "execution_count": 68,
     "metadata": {},
     "output_type": "execute_result"
    }
   ],
   "source": [
    "# можно найти среднее значение каждого столбика используя mean\n",
    "Xmean = x.mean(0)\n",
    "Xmean"
   ]
  },
  {
   "cell_type": "code",
   "execution_count": 69,
   "id": "bbebf4f1",
   "metadata": {},
   "outputs": [
    {
     "data": {
      "text/plain": [
       "array([[-0.0643935 , -0.24230825, -0.34454166],\n",
       "       [-0.14418933,  0.47849365, -0.14120409],\n",
       "       [ 0.03698612,  0.2386029 , -0.10077742],\n",
       "       [ 0.48997758,  0.49803124, -0.21262473],\n",
       "       [ 0.015444  , -0.16353775, -0.17956653],\n",
       "       [-0.44491756,  0.14514828,  0.038272  ],\n",
       "       [-0.43032575, -0.18576959,  0.44385886],\n",
       "       [-0.24224261, -0.31952118,  0.02504573],\n",
       "       [ 0.50384595, -0.22236078,  0.20772852],\n",
       "       [ 0.27981511, -0.22677851,  0.26380932]])"
      ]
     },
     "execution_count": 69,
     "metadata": {},
     "output_type": "execute_result"
    }
   ],
   "source": [
    "X_centered = x - Xmean\n",
    "X_centered"
   ]
  },
  {
   "cell_type": "code",
   "execution_count": 19,
   "id": "4c1961ef",
   "metadata": {},
   "outputs": [
    {
     "data": {
      "text/plain": [
       "array([-4.44089210e-17, -6.66133815e-17, -1.11022302e-17])"
      ]
     },
     "execution_count": 19,
     "metadata": {},
     "output_type": "execute_result"
    }
   ],
   "source": [
    "X_centered.mean(0)"
   ]
  },
  {
   "cell_type": "code",
   "execution_count": 20,
   "id": "e4601a91",
   "metadata": {},
   "outputs": [],
   "source": [
    "# x and y have 50 steps from 0 to 5\n",
    "x = np.linspace(0, 5, 100)\n",
    "y = np.linspace(0, 5, 100)[:, np.newaxis]\n",
    "\n",
    "z = np.sin(x) ** 2 + np.cos(5 + y * x) * np.cos(x*2)\n"
   ]
  },
  {
   "cell_type": "code",
   "execution_count": 21,
   "id": "fea8f70a",
   "metadata": {},
   "outputs": [],
   "source": [
    "%matplotlib inline\n",
    "import matplotlib.pyplot as plt"
   ]
  },
  {
   "cell_type": "code",
   "execution_count": 22,
   "id": "10cdbc2e",
   "metadata": {
    "scrolled": true
   },
   "outputs": [
    {
     "data": {
      "image/png": "[encoded data removed]",
      "text/plain": [
       "<Figure size 432x288 with 2 Axes>"
      ]
     },
     "metadata": {
      "needs_background": "light"
     },
     "output_type": "display_data"
    }
   ],
   "source": [
    "plt.imshow(z, origin='lower', extent=[0, 5, 0, 5],\n",
    "           cmap='viridis')\n",
    "plt.colorbar();"
   ]
  },
  {
   "cell_type": "code",
   "execution_count": 23,
   "id": "be03928e",
   "metadata": {},
   "outputs": [
    {
     "data": {
      "text/plain": [
       "'1.4.2'"
      ]
     },
     "execution_count": 23,
     "metadata": {},
     "output_type": "execute_result"
    }
   ],
   "source": [
    "import pandas\n",
    "pandas.__version__"
   ]
  },
  {
   "cell_type": "code",
   "execution_count": 24,
   "id": "705edec2",
   "metadata": {},
   "outputs": [
    {
     "data": {
      "text/plain": [
       "(365,)"
      ]
     },
     "execution_count": 24,
     "metadata": {},
     "output_type": "execute_result"
    }
   ],
   "source": [
    "import numpy as np\n",
    "import pandas as pd\n",
    "import os\n",
    "os.getcwd()\n",
    "# use pandas to extract rainfall inches as a NumPy array\n",
    "rainfall = pd.read_csv('/Users/egormokievskij/Documents/GitHub/PythonDataScienceHandbook/notebooks/data/Seattle2014.csv')['PRCP'].values\n",
    "inches = rainfall / 254.0  # 1/10mm -> inches\n",
    "inches.shape"
   ]
  },
  {
   "cell_type": "code",
   "execution_count": 25,
   "id": "7e92d94e",
   "metadata": {},
   "outputs": [
    {
     "name": "stdout",
     "output_type": "stream",
     "text": [
      "/Users/egormokievskij\n"
     ]
    }
   ],
   "source": [
    "print(os.getcwd())"
   ]
  },
  {
   "cell_type": "code",
   "execution_count": 26,
   "id": "4847ce08",
   "metadata": {},
   "outputs": [],
   "source": [
    "%matplotlib inline\n",
    "import matplotlib.pyplot as plt\n",
    "import seaborn; seaborn.set()"
   ]
  },
  {
   "cell_type": "code",
   "execution_count": 27,
   "id": "d205e136",
   "metadata": {},
   "outputs": [
    {
     "data": {
      "image/png": "[encoded data removed]",
      "text/plain": [
       "<Figure size 432x288 with 1 Axes>"
      ]
     },
     "metadata": {},
     "output_type": "display_data"
    }
   ],
   "source": [
    "plt.hist(inches, 40);"
   ]
  },
  {
   "cell_type": "code",
   "execution_count": 28,
   "id": "e8dfc2ff",
   "metadata": {},
   "outputs": [
    {
     "data": {
      "text/plain": [
       "array([[5, 0, 3, 3],\n",
       "       [7, 9, 3, 5],\n",
       "       [2, 4, 7, 6]])"
      ]
     },
     "execution_count": 28,
     "metadata": {},
     "output_type": "execute_result"
    }
   ],
   "source": [
    "rng = np.random.RandomState(0)\n",
    "x = rng.randint(10, size = (3,4))\n",
    "x"
   ]
  },
  {
   "cell_type": "code",
   "execution_count": 29,
   "id": "29f5dd25",
   "metadata": {},
   "outputs": [
    {
     "data": {
      "text/plain": [
       "8"
      ]
     },
     "execution_count": 29,
     "metadata": {},
     "output_type": "execute_result"
    }
   ],
   "source": [
    "np.count_nonzero(x<6)"
   ]
  },
  {
   "cell_type": "code",
   "execution_count": 30,
   "id": "718f85b0",
   "metadata": {},
   "outputs": [
    {
     "data": {
      "text/plain": [
       "8"
      ]
     },
     "execution_count": 30,
     "metadata": {},
     "output_type": "execute_result"
    }
   ],
   "source": [
    "#Another way to get at this information is to use np.sum; in this case, \n",
    "#False is interpreted as 0, and True is interpreted as 1:\n",
    "np.sum(x<6)"
   ]
  },
  {
   "cell_type": "code",
   "execution_count": 31,
   "id": "44ab5497",
   "metadata": {},
   "outputs": [
    {
     "data": {
      "text/plain": [
       "array([2, 2, 2, 2])"
      ]
     },
     "execution_count": 31,
     "metadata": {},
     "output_type": "execute_result"
    }
   ],
   "source": [
    "# how many values less than 6 in each row?\n",
    "np.sum(x < 6, axis=0)"
   ]
  },
  {
   "cell_type": "code",
   "execution_count": 32,
   "id": "40092546",
   "metadata": {},
   "outputs": [
    {
     "data": {
      "text/plain": [
       "array([4, 2, 2])"
      ]
     },
     "execution_count": 32,
     "metadata": {},
     "output_type": "execute_result"
    }
   ],
   "source": [
    "# how many values less than 6 in each row?\n",
    "np.sum(x < 6, axis=1)"
   ]
  },
  {
   "cell_type": "code",
   "execution_count": 33,
   "id": "4a1022f4",
   "metadata": {},
   "outputs": [
    {
     "data": {
      "text/plain": [
       "True"
      ]
     },
     "execution_count": 33,
     "metadata": {},
     "output_type": "execute_result"
    }
   ],
   "source": [
    "np.any(x<8)"
   ]
  },
  {
   "cell_type": "code",
   "execution_count": 34,
   "id": "6637018e",
   "metadata": {},
   "outputs": [
    {
     "data": {
      "text/plain": [
       "False"
      ]
     },
     "execution_count": 34,
     "metadata": {},
     "output_type": "execute_result"
    }
   ],
   "source": [
    "np.any(x<0)"
   ]
  },
  {
   "cell_type": "code",
   "execution_count": 35,
   "id": "3a41a359",
   "metadata": {},
   "outputs": [
    {
     "data": {
      "text/plain": [
       "True"
      ]
     },
     "execution_count": 35,
     "metadata": {},
     "output_type": "execute_result"
    }
   ],
   "source": [
    "np.all(x<10)"
   ]
  },
  {
   "cell_type": "code",
   "execution_count": 36,
   "id": "05b1e8b6",
   "metadata": {},
   "outputs": [
    {
     "data": {
      "text/plain": [
       "False"
      ]
     },
     "execution_count": 36,
     "metadata": {},
     "output_type": "execute_result"
    }
   ],
   "source": [
    "np.all(x==6)"
   ]
  },
  {
   "cell_type": "code",
   "execution_count": 37,
   "id": "92bddbb8",
   "metadata": {},
   "outputs": [
    {
     "data": {
      "text/plain": [
       "array([ True, False, False])"
      ]
     },
     "execution_count": 37,
     "metadata": {},
     "output_type": "execute_result"
    }
   ],
   "source": [
    "#np.all and np.any can be used along particular axes as well. \n",
    "\n",
    "# are all values in each row less than 8?\n",
    "np.all(x<6, axis = 1)"
   ]
  },
  {
   "cell_type": "code",
   "execution_count": 38,
   "id": "65aa6f89",
   "metadata": {},
   "outputs": [
    {
     "data": {
      "text/plain": [
       "29"
      ]
     },
     "execution_count": 38,
     "metadata": {},
     "output_type": "execute_result"
    }
   ],
   "source": [
    "np.sum((inches > 0.5) & (inches < 1))\n",
    "#So we see that there are 29 days with rainfall between 0.5 and 1.0 inches."
   ]
  },
  {
   "cell_type": "code",
   "execution_count": 39,
   "id": "7d1f26e0",
   "metadata": {},
   "outputs": [
    {
     "name": "stdout",
     "output_type": "stream",
     "text": [
      "Number days without rain:       215\n",
      "Number days with rain:          150\n",
      "Days with more than 0.5 inches: 37\n",
      "Rainy days with < 0.2 inches  : 75\n"
     ]
    }
   ],
   "source": [
    "print(\"Number days without rain:      \", np.sum(inches == 0))\n",
    "print(\"Number days with rain:         \", np.sum(inches != 0))\n",
    "print(\"Days with more than 0.5 inches:\", np.sum(inches > 0.5))\n",
    "print(\"Rainy days with < 0.2 inches  :\", np.sum((inches >0) & (inches < 0.2)))\n",
    "                                       "
   ]
  },
  {
   "cell_type": "code",
   "execution_count": 40,
   "id": "def9ba31",
   "metadata": {},
   "outputs": [
    {
     "data": {
      "text/plain": [
       "array([[5, 0, 3, 3],\n",
       "       [7, 9, 3, 5],\n",
       "       [2, 4, 7, 6]])"
      ]
     },
     "execution_count": 40,
     "metadata": {},
     "output_type": "execute_result"
    }
   ],
   "source": [
    "x"
   ]
  },
  {
   "cell_type": "code",
   "execution_count": 41,
   "id": "108e5039",
   "metadata": {},
   "outputs": [
    {
     "data": {
      "text/plain": [
       "array([[False,  True,  True,  True],\n",
       "       [False, False,  True, False],\n",
       "       [ True,  True, False, False]])"
      ]
     },
     "execution_count": 41,
     "metadata": {},
     "output_type": "execute_result"
    }
   ],
   "source": [
    "x<5"
   ]
  },
  {
   "cell_type": "code",
   "execution_count": 42,
   "id": "a5a19e8a",
   "metadata": {},
   "outputs": [
    {
     "data": {
      "text/plain": [
       "array([0, 3, 3, 3, 2, 4])"
      ]
     },
     "execution_count": 42,
     "metadata": {},
     "output_type": "execute_result"
    }
   ],
   "source": [
    "x[x<5]"
   ]
  },
  {
   "cell_type": "code",
   "execution_count": 43,
   "id": "c868512b",
   "metadata": {},
   "outputs": [
    {
     "name": "stdout",
     "output_type": "stream",
     "text": [
      "Median precip on rainy days in 2014 (inches):    0.19488188976377951\n",
      "Median precip on summer days in 2014 (inches):   0.0\n",
      "Maximum precip on summer days in 2014 (inches):  0.8503937007874016\n",
      "Median precip on non-summer rainy days (inches): 0.20078740157480315\n"
     ]
    }
   ],
   "source": [
    "rainy = (inches>0)\n",
    "days = np.arange(365)\n",
    "summer = (days > 172) & (days < 262)\n",
    "\n",
    "print(\"Median precip on rainy days in 2014 (inches):   \",\n",
    "      np.median(inches[rainy]))\n",
    "print(\"Median precip on summer days in 2014 (inches):  \",\n",
    "      np.median(inches[summer]))\n",
    "print(\"Maximum precip on summer days in 2014 (inches): \",\n",
    "      np.max(inches[summer]))\n",
    "print(\"Median precip on non-summer rainy days (inches):\",\n",
    "      np.median(inches[rainy & ~summer])) # И(&) НЕ(~) летних дней "
   ]
  },
  {
   "cell_type": "code",
   "execution_count": 44,
   "id": "92d09a71",
   "metadata": {},
   "outputs": [
    {
     "data": {
      "text/plain": [
       "array([[ 0,  1,  2,  3],\n",
       "       [ 4,  5,  6,  7],\n",
       "       [ 8,  9, 10, 11]])"
      ]
     },
     "execution_count": 44,
     "metadata": {},
     "output_type": "execute_result"
    }
   ],
   "source": [
    "X = np.arange(12).reshape(3,4)\n",
    "X"
   ]
  },
  {
   "cell_type": "code",
   "execution_count": 45,
   "id": "59cc45d2",
   "metadata": {},
   "outputs": [
    {
     "data": {
      "text/plain": [
       "array([ 2,  5, 11])"
      ]
     },
     "execution_count": 45,
     "metadata": {},
     "output_type": "execute_result"
    }
   ],
   "source": [
    "row = np.array([0,1,2])\n",
    "col = np.array([2,1,3])\n",
    "X[row,col]"
   ]
  },
  {
   "cell_type": "code",
   "execution_count": 46,
   "id": "b9844182",
   "metadata": {},
   "outputs": [],
   "source": [
    "#Notice that the first value in the result is X[0, 2]\n",
    "#the second is X[1, 1],\n",
    "#and the third is X[2, 3].\n"
   ]
  },
  {
   "cell_type": "code",
   "execution_count": 47,
   "id": "12069c3d",
   "metadata": {},
   "outputs": [
    {
     "data": {
      "text/plain": [
       "array([[ 2,  1,  3],\n",
       "       [ 6,  5,  7],\n",
       "       [10,  9, 11]])"
      ]
     },
     "execution_count": 47,
     "metadata": {},
     "output_type": "execute_result"
    }
   ],
   "source": [
    "X[row[:,np.newaxis], col]\n"
   ]
  },
  {
   "cell_type": "code",
   "execution_count": 48,
   "id": "9bfa388e",
   "metadata": {},
   "outputs": [
    {
     "data": {
      "text/plain": [
       "(100, 2)"
      ]
     },
     "execution_count": 48,
     "metadata": {},
     "output_type": "execute_result"
    }
   ],
   "source": [
    "mean = [0, 0]\n",
    "cov = [[1, 2],\n",
    "       [2, 5]]\n",
    "X = np.random.multivariate_normal(mean, cov, 100)\n",
    "X.shape"
   ]
  },
  {
   "cell_type": "code",
   "execution_count": 49,
   "id": "dabc1c2c",
   "metadata": {},
   "outputs": [
    {
     "data": {
      "text/plain": [
       "array([[-0.17087299,  0.39974735],\n",
       "       [ 1.55313504,  2.84648606],\n",
       "       [ 0.15077584,  1.65788348],\n",
       "       [-0.38257633, -1.01682077],\n",
       "       [-1.14195795, -2.3972918 ],\n",
       "       [ 1.44918706,  2.3722801 ],\n",
       "       [ 1.23400986,  2.7392179 ],\n",
       "       [ 0.94541283,  2.61813982],\n",
       "       [ 0.93109635,  3.32506971],\n",
       "       [ 0.27603993,  0.24856236],\n",
       "       [ 1.46798423,  1.38334087],\n",
       "       [ 0.52321326,  0.98329652],\n",
       "       [ 0.17887979,  0.03465024],\n",
       "       [ 0.88572417,  2.63987956],\n",
       "       [-0.42479456,  0.05775884],\n",
       "       [-0.15279654, -1.23587228],\n",
       "       [ 0.02228729, -0.56690655],\n",
       "       [ 0.85484753,  3.45165444],\n",
       "       [-0.40561016, -2.02191757],\n",
       "       [ 0.04174054,  0.63816305],\n",
       "       [-0.12911439, -0.83506388],\n",
       "       [ 1.80642429,  3.57370956],\n",
       "       [-2.84305071, -6.45238253],\n",
       "       [ 0.10572386, -0.2480584 ],\n",
       "       [-0.02464901, -2.13161596],\n",
       "       [-1.8772514 , -5.49741742],\n",
       "       [-1.61067406, -2.48874101],\n",
       "       [-0.4632979 , -0.29415628],\n",
       "       [ 0.70944349,  2.04544041],\n",
       "       [-1.55927899, -1.95593537],\n",
       "       [ 0.41846729,  0.76818854],\n",
       "       [-0.03418977, -0.31165051],\n",
       "       [-0.70796947, -0.56141406],\n",
       "       [ 1.15498626,  2.38286386],\n",
       "       [-2.07153483, -3.1160359 ],\n",
       "       [-0.47163307, -0.74363292],\n",
       "       [-1.07170859, -1.86199788],\n",
       "       [-0.99357569, -1.8032622 ],\n",
       "       [ 1.74045028,  2.0127929 ],\n",
       "       [ 0.08570068,  0.09448952],\n",
       "       [ 1.67372691,  3.88246902],\n",
       "       [ 0.02846677,  0.18509579],\n",
       "       [-0.07729239, -1.48060708],\n",
       "       [ 1.23189348,  3.4428401 ],\n",
       "       [-1.35685688, -3.48884681],\n",
       "       [-0.20832641, -0.14832995],\n",
       "       [ 1.00119093,  4.28544776],\n",
       "       [-1.84208926, -3.16689285],\n",
       "       [-1.50094365, -2.39416565],\n",
       "       [ 0.36068537, -1.21161307],\n",
       "       [-1.19004906, -2.76955922],\n",
       "       [-0.22261262, -0.3391906 ],\n",
       "       [ 0.06139928,  1.13862872],\n",
       "       [-0.87629664, -2.78836601],\n",
       "       [ 0.78597571,  0.48898777],\n",
       "       [-0.24964248, -0.21352362],\n",
       "       [ 0.92954836,  2.03736596],\n",
       "       [ 1.70229651,  2.8069417 ],\n",
       "       [ 1.83030706,  2.96082368],\n",
       "       [-0.52398359, -1.45003847],\n",
       "       [ 0.64642953,  2.4493494 ],\n",
       "       [-1.69525188, -4.94184422],\n",
       "       [ 0.52028618,  0.08874413],\n",
       "       [-0.63874627, -1.00866933],\n",
       "       [ 1.61623784,  2.89764895],\n",
       "       [-1.53863946, -3.66513565],\n",
       "       [-0.33638795, -0.74860133],\n",
       "       [-1.78638851, -3.2220262 ],\n",
       "       [-0.29800602, -1.03659643],\n",
       "       [-1.02173578, -1.97536003],\n",
       "       [ 0.19222841,  0.60198993],\n",
       "       [-0.30454784, -0.84867126],\n",
       "       [ 1.51254889,  3.26824782],\n",
       "       [-0.41451131, -1.36609247],\n",
       "       [ 0.54521397, -0.3485532 ],\n",
       "       [-0.10482631,  1.3968765 ],\n",
       "       [ 0.76303493, -0.15968215],\n",
       "       [ 1.34015595,  3.04132713],\n",
       "       [ 1.06113268,  1.84862321],\n",
       "       [ 0.26647515,  2.3300182 ],\n",
       "       [-0.75310915, -1.04315937],\n",
       "       [ 1.96602509,  4.32070298],\n",
       "       [-0.9775169 , -2.99039434],\n",
       "       [ 1.05713323,  2.23159615],\n",
       "       [ 0.67611727,  1.47675415],\n",
       "       [-1.34479196, -2.56218002],\n",
       "       [ 1.09619366,  0.01311885],\n",
       "       [-1.97752886, -2.4696111 ],\n",
       "       [-0.20510953, -1.19617986],\n",
       "       [-0.13025337, -0.49848093],\n",
       "       [ 1.00839326,  2.05238745],\n",
       "       [-0.81111245, -0.45688903],\n",
       "       [-1.08402391, -2.04856005],\n",
       "       [ 2.98314399,  6.13378254],\n",
       "       [ 0.52793766,  1.50073939],\n",
       "       [-1.65689677, -3.47700895],\n",
       "       [-0.22053828,  1.29424589],\n",
       "       [ 1.09226289,  2.94317791],\n",
       "       [ 0.17879162,  1.04323799],\n",
       "       [ 0.48528317,  0.74644999]])"
      ]
     },
     "execution_count": 49,
     "metadata": {},
     "output_type": "execute_result"
    }
   ],
   "source": [
    "X"
   ]
  },
  {
   "cell_type": "code",
   "execution_count": 50,
   "id": "0ae14f50",
   "metadata": {},
   "outputs": [
    {
     "data": {
      "image/png": "[encoded data removed]",
      "text/plain": [
       "<Figure size 432x288 with 1 Axes>"
      ]
     },
     "metadata": {},
     "output_type": "display_data"
    }
   ],
   "source": [
    "%matplotlib inline\n",
    "import matplotlib.pyplot as plt\n",
    "import seaborn; seaborn.set()  # for plot styling\n",
    "\n",
    "plt.scatter(X[:, 0], X[:, 1]);"
   ]
  },
  {
   "cell_type": "code",
   "execution_count": 51,
   "id": "e23fc515",
   "metadata": {},
   "outputs": [
    {
     "data": {
      "text/plain": [
       "array([26, 59, 39, 99, 90, 85, 98, 41, 57, 42, 46, 51, 49, 17, 34, 32, 33,\n",
       "       93, 62, 40])"
      ]
     },
     "execution_count": 51,
     "metadata": {},
     "output_type": "execute_result"
    }
   ],
   "source": [
    "indices = np.random.choice(X.shape[0], 20, replace=False)\n",
    "indices"
   ]
  },
  {
   "cell_type": "code",
   "execution_count": 52,
   "id": "59cd3f40",
   "metadata": {},
   "outputs": [
    {
     "data": {
      "text/plain": [
       "(20, 2)"
      ]
     },
     "execution_count": 52,
     "metadata": {},
     "output_type": "execute_result"
    }
   ],
   "source": [
    "selection = X[indices]\n",
    "selection.shape"
   ]
  },
  {
   "cell_type": "code",
   "execution_count": 53,
   "id": "9c477cb8",
   "metadata": {},
   "outputs": [
    {
     "data": {
      "image/png": "[encoded data removed]",
      "text/plain": [
       "<Figure size 432x288 with 1 Axes>"
      ]
     },
     "metadata": {},
     "output_type": "display_data"
    }
   ],
   "source": [
    "plt.scatter(X[:, 0], X[:, 1])\n",
    "plt.scatter(selection[:, 0], selection[:, 1],\n",
    "            facecolor='black');"
   ]
  },
  {
   "cell_type": "code",
   "execution_count": 54,
   "id": "0c2eac2b",
   "metadata": {},
   "outputs": [
    {
     "name": "stdout",
     "output_type": "stream",
     "text": [
      "[ 0  1 99  3 99  5 99  7 99  9]\n"
     ]
    }
   ],
   "source": [
    "x= np.arange(10)\n",
    "a= [2,4,6,8]\n",
    "\n",
    "x[a] = 99\n",
    "print(x)"
   ]
  },
  {
   "cell_type": "code",
   "execution_count": 55,
   "id": "7d7f99bb",
   "metadata": {},
   "outputs": [
    {
     "data": {
      "text/plain": [
       "array([ 0,  1, 99,  3, 99,  5, 99,  7, 99,  9])"
      ]
     },
     "execution_count": 55,
     "metadata": {},
     "output_type": "execute_result"
    }
   ],
   "source": [
    "x"
   ]
  },
  {
   "cell_type": "code",
   "execution_count": 56,
   "id": "aff7f55b",
   "metadata": {},
   "outputs": [
    {
     "name": "stdout",
     "output_type": "stream",
     "text": [
      "[ 0  1 89  3 89  5 89  7 89  9]\n"
     ]
    }
   ],
   "source": [
    "x[a] -= 10\n",
    "print(x)"
   ]
  },
  {
   "cell_type": "code",
   "execution_count": 57,
   "id": "e63c5083",
   "metadata": {},
   "outputs": [
    {
     "name": "stdout",
     "output_type": "stream",
     "text": [
      "[6. 0. 0. 0. 0. 0. 0. 0. 0. 0.]\n"
     ]
    }
   ],
   "source": [
    "x = np.zeros(10)\n",
    "x[[0,0]] = [4,6]\n",
    "print(x)"
   ]
  },
  {
   "cell_type": "code",
   "execution_count": 58,
   "id": "6637659c",
   "metadata": {},
   "outputs": [
    {
     "data": {
      "text/plain": [
       "array([6., 0., 1., 1., 1., 0., 0., 0., 0., 0.])"
      ]
     },
     "execution_count": 58,
     "metadata": {},
     "output_type": "execute_result"
    }
   ],
   "source": [
    "\n",
    "i = [2, 3, 3, 4, 4, 4]\n",
    "x[i] += 1\n",
    "x"
   ]
  },
  {
   "cell_type": "code",
   "execution_count": 59,
   "id": "b5463f6c",
   "metadata": {},
   "outputs": [
    {
     "name": "stdout",
     "output_type": "stream",
     "text": [
      "[0. 0. 1. 2. 3. 0. 0. 0. 0. 0.]\n"
     ]
    }
   ],
   "source": [
    "x = np.zeros(10)\n",
    "np.add.at(x, i, 1)\n",
    "print(x)"
   ]
  },
  {
   "cell_type": "code",
   "execution_count": 60,
   "id": "2a27c8f7",
   "metadata": {},
   "outputs": [],
   "source": [
    "np.random.seed(42)\n",
    "x = np.random.randn(100)\n",
    "\n",
    "# compute a histogram by hand\n",
    "bins = np.linspace(-5, 5, 20)\n",
    "counts = np.zeros_like(bins)\n",
    "\n",
    "# find the appropriate bin for each x\n",
    "i = np.searchsorted(bins, x)\n",
    "\n",
    "# add 1 to each of these bins\n",
    "np.add.at(counts, i, 1)"
   ]
  },
  {
   "cell_type": "code",
   "execution_count": 61,
   "id": "99e27e2b",
   "metadata": {},
   "outputs": [
    {
     "data": {
      "text/plain": [
       "array([[1., 1., 1.],\n",
       "       [1., 1., 1.],\n",
       "       [1., 1., 1.]])"
      ]
     },
     "execution_count": 61,
     "metadata": {},
     "output_type": "execute_result"
    }
   ],
   "source": [
    "q = np.ones((3,3))\n",
    "q"
   ]
  },
  {
   "cell_type": "code",
   "execution_count": 62,
   "id": "2b016d09",
   "metadata": {},
   "outputs": [
    {
     "data": {
      "text/plain": [
       "array([[0., 0., 0.],\n",
       "       [0., 0., 0.],\n",
       "       [0., 0., 0.]])"
      ]
     },
     "execution_count": 62,
     "metadata": {},
     "output_type": "execute_result"
    }
   ],
   "source": [
    "x = np.zeros_like(q)\n",
    "x"
   ]
  },
  {
   "cell_type": "code",
   "execution_count": null,
   "id": "2291d9e5",
   "metadata": {},
   "outputs": [],
   "source": []
  }
 ],
 "metadata": {
  "kernelspec": {
   "display_name": "Python 3 (ipykernel)",
   "language": "python",
   "name": "python3"
  },
  "language_info": {
   "codemirror_mode": {
    "name": "ipython",
    "version": 3
   },
   "file_extension": ".py",
   "mimetype": "text/x-python",
   "name": "python",
   "nbconvert_exporter": "python",
   "pygments_lexer": "ipython3",
   "version": "3.9.12"
  }
 },
 "nbformat": 4,
 "nbformat_minor": 5
}
