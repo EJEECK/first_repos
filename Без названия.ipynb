{
 "cells": [
  {
   "cell_type": "code",
   "execution_count": 1,
   "id": "383e7556",
   "metadata": {},
   "outputs": [
    {
     "data": {
      "text/plain": [
       "1659450607.41386"
      ]
     },
     "execution_count": 1,
     "metadata": {},
     "output_type": "execute_result"
    }
   ],
   "source": [
    "import time\n",
    "time.time()"
   ]
  },
  {
   "cell_type": "code",
   "execution_count": 9,
   "id": "a099c057",
   "metadata": {},
   "outputs": [
    {
     "name": "stdout",
     "output_type": "stream",
     "text": [
      "Help on built-in function sorted in module builtins:\n",
      "\n",
      "sorted(iterable, /, *, key=None, reverse=False)\n",
      "    Return a new list containing all items from the iterable in ascending order.\n",
      "    \n",
      "    A custom key function can be supplied to customize the sort order, and the\n",
      "    reverse flag can be set to request the result in descending order.\n",
      "\n"
     ]
    }
   ],
   "source": [
    "help(sorted)\n",
    "\n",
    "\n",
    "\n"
   ]
  },
  {
   "cell_type": "code",
   "execution_count": 3,
   "id": "20e1cdbd",
   "metadata": {},
   "outputs": [
    {
     "name": "stdout",
     "output_type": "stream",
     "text": [
      "Help on built-in function len in module builtins:\n",
      "\n",
      "len(obj, /)\n",
      "    Return the number of items in a container.\n",
      "\n"
     ]
    }
   ],
   "source": [
    "help(len)\n"
   ]
  },
  {
   "cell_type": "code",
   "execution_count": 4,
   "id": "818c5b45",
   "metadata": {},
   "outputs": [
    {
     "name": "stdout",
     "output_type": "stream",
     "text": [
      "4\n"
     ]
    }
   ],
   "source": [
    "print(len('Егор'))"
   ]
  },
  {
   "cell_type": "code",
   "execution_count": 1,
   "id": "3faabceb",
   "metadata": {},
   "outputs": [],
   "source": [
    "len?"
   ]
  },
  {
   "cell_type": "code",
   "execution_count": 8,
   "id": "167aca32",
   "metadata": {},
   "outputs": [],
   "source": [
    "L = [1,2,3,4]\n",
    "L.insert?\n"
   ]
  },
  {
   "cell_type": "code",
   "execution_count": 24,
   "id": "3f7a0f90",
   "metadata": {},
   "outputs": [],
   "source": [
    "def square(a):\n",
    "    \"\"\" Returns the square of a. \"\"\"\n",
    "    return a**2\n",
    "square??\n",
    "square?"
   ]
  },
  {
   "cell_type": "code",
   "execution_count": 27,
   "id": "e3f3960c",
   "metadata": {},
   "outputs": [],
   "source": [
    "square?"
   ]
  },
  {
   "cell_type": "code",
   "execution_count": null,
   "id": "57a520c0",
   "metadata": {},
   "outputs": [],
   "source": [
    "# L.<TAB>\n",
    "L.append \n",
    "L.copy\n",
    "L.insert \n",
    "etc.\n",
    "# L.c<TAB>\n",
    "L.clear\n",
    "L.copy\n",
    "L.count\n",
    "# L.co<TAB>\n",
    "L.count\n",
    "L.copy\n",
    "# L._<TAB>\n",
    "L.__add__\n",
    "L.__dir__\n",
    "L.__format__\n",
    "etc\n",
    "\n",
    "\n"
   ]
  },
  {
   "cell_type": "code",
   "execution_count": 29,
   "id": "302ff148",
   "metadata": {},
   "outputs": [],
   "source": [
    "#from itertools import co<TAB>\n",
    "from itertools import compress\n",
    "# Используется * вместо табуляции, если мы не знаем первые символы строки\n",
    "*Warninng?\n",
    "srt.*find*?\n",
    "\n"
   ]
  },
  {
   "cell_type": "code",
   "execution_count": null,
   "id": "1dc5d470",
   "metadata": {},
   "outputs": [],
   "source": []
  }
 ],
 "metadata": {
  "kernelspec": {
   "display_name": "Python 3 (ipykernel)",
   "language": "python",
   "name": "python3"
  },
  "language_info": {
   "codemirror_mode": {
    "name": "ipython",
    "version": 3
   },
   "file_extension": ".py",
   "mimetype": "text/x-python",
   "name": "python",
   "nbconvert_exporter": "python",
   "pygments_lexer": "ipython3",
   "version": "3.9.12"
  }
 },
 "nbformat": 4,
 "nbformat_minor": 5
}
